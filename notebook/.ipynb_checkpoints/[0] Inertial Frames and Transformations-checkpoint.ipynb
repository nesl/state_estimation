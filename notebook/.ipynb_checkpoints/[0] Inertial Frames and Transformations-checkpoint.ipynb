{
 "cells": [
  {
   "cell_type": "markdown",
   "metadata": {},
   "source": [
    "# Tutorial #0 :: Inertial Frames and Transformations\n",
    "Before we begin discussing inertial data and estimating positions and other properties from that inertial data, it's important that we discuss the various frames of reference involved when dealing with such problems. \n",
    "\n",
    "## Right Hand Coordinate Systems\n",
    "Most orthogonal coordinate systems are defined to be a *right hand* coordinate system, so that transformations and rotations can be discussed and reasoned about in a standardized way.  The reason these coordinate frames are called *right hand* systems is illustrated in the following figure.\n",
    "\n",
    "<img src=\"http://2.bp.blogspot.com/-4AdOJFONe-w/UtjfkjNN6nI/AAAAAAAABJg/vR6LzTqDArw/s1600/hand.png\" alt=\"Right hand coordinate frame\" style=\"width: 300px;\"/>\n",
    "\n",
    "Additionally, rotations about any of those 3 axes is defined such that if you were to take your right hand and point the thumb in the direction of that axis, the rotation would be positive when your hand rotates around the axis in the direction that your fingers are pointing, like so:\n",
    "\n",
    "<img src=\"https://upload.wikimedia.org/wikipedia/commons/thumb/3/34/Right-hand_grip_rule.svg/2000px-Right-hand_grip_rule.svg.png\" alt=\"Right hand rotations\" style=\"width: 200px;\"/>\n",
    "\n",
    "There are several common configurations of right hand coordinate systems that are commonly adopted. Two of these are North-East-Down (NED), a common configuration for aerial devices like planes:\n",
    "\n",
    "<img src=\"http://www.chrobotics.com/wp-content/uploads/2012/11/Inertial-Frame.png\" alt=\"north east down\" style=\"width: 400px;\"/>\n",
    "\n",
    "and East-North-Up (ENU). The coordinate system we will apply is essentially North-West-Up, though it is not often referred to by that name. \n",
    "\n",
    "<img src=\"https://www.researchgate.net/profile/Suneeta_Godbole/publication/262055313/figure/fig2/AS:213872930758658@1428002688513/Average-roll-pitch-and-yaw-angles.png\" alt=\"north east down\" style=\"width: 300px;\"/>\n",
    "\n",
    "where we use the common names of roll, pitch, and yaw to denote rotations about the $x$, $y$, and $z$ axes, respectively. These are referred to as Euler angles, and they can completely describe any rotation in 3D Euclidean space, or equivalently they can completely describe a frame of reference relative to another frame of reference. These Euler angles are often denoted, in order, $\\phi$, $\\theta$, and $\\psi$. \n",
    "\n",
    "## Inertial and Body Frames\n",
    "In the case that we are tracking a mobile rigid body we will have two coordinate frames. The first is a fixed frame that is *global* or embedded in the *world*. This is commonly referred to as the *inertial* frame, because all inertial variables such as position, velocity, etc. will be estimated with respect to this frame. The second frame is the *body* frame, which as it suggests is relative to the rigid body itself. As the mobile device moves around, the body frame will translate and rotate with respect to the inertial frame, but the body frame never moves with respect to the mobile body. \n",
    "\n",
    "For example, the blue frame below represents an inertial frame while the dark yellow frame represents a body frame.\n",
    "\n",
    "<img src=\"https://upload.wikimedia.org/wikipedia/commons/thumb/6/6a/Inertial_frames.PNG/250px-Inertial_frames.PNG\" alt=\"north east down\" style=\"width: 300px;\"/>\n",
    "\n",
    "This is important when dealing with inertial sensors, because they will always measure signals with respect to the body frame, as they are mounted on the body of the mobile device. We therefore need some way of converting between the two frames of reference. \n",
    "\n",
    "In this tutorial, we will concern ourselves only with rotating between two reference frames, though translation becomes trivial once rotation is achieved.  One way to achieve rotation between two frames is by using the Euler angles described above. Specifically, rotation about the three axes can be achieved by the following matrices:\n",
    "\n",
    "<center>\n",
    "$\\begin{align}\n",
    "R_x(\\phi) &= \\begin{bmatrix} 1 & 0 & 0 \\\\ 0 & \\cos\\phi & -\\sin\\phi \\\\ 0 & \\sin\\phi & \\cos\\phi \\end{bmatrix}\\\\\n",
    "R_y(\\theta) &= \\begin{bmatrix} \\cos\\theta & 0 & \\sin\\theta \\\\ 0 & 1 & 0 \\\\ -\\sin\\theta & 0 & \\cos\\theta \\end{bmatrix}\\\\\n",
    "R_z(\\psi) &= \\begin{bmatrix} \\cos\\psi & -\\sin\\psi & 0 \\\\ \\sin\\psi & \\cos\\psi & 0 \\\\ 0 & 0 & 1 \\end{bmatrix}\n",
    "\\end{align}$\n",
    "</center>\n",
    "\n",
    "Now, clearly these rotations are order-dependent. That is, rotating about x and then about y is not necessarily the same as rotating about y and *then* about x. We therefore must follow specific conventions to achieve a full rotation in 3D. A common way to do this is to pre-multiply a vector in the following manner.\n",
    "\n",
    "<center>\n",
    "$\\begin{align}\n",
    "R = R_z(\\psi)R_y(\\theta)R_x(\\phi)\n",
    "\\end{align}$\n",
    "</center>\n",
    "\n",
    "It is very important to **note** that the Euler angles represent sequential rotations--for example, after an initial rotation about $x$, the next rotation is about the *new* $y$ axis, not the initial $y$ axis. \n",
    "\n",
    "so that in order to rotate a vector $v$ about the given angles, we need only calculate $v' = Rv$. Now, if the angles in $R$ constitute the rotation of the body frame with respect to the world frame, $R$ is actually a transformation from the *body frame to the world frame*.\n",
    "\n",
    "Let's illustrate this with an example--let's rotate a point in 3D."
   ]
  },
  {
   "cell_type": "code",
   "execution_count": 46,
   "metadata": {
    "collapsed": false
   },
   "outputs": [
    {
     "name": "stdout",
     "output_type": "stream",
     "text": [
      "Body frame vector:\n",
      "[[1]\n",
      " [0]\n",
      " [0]]\n",
      "World frame vector:\n",
      "[[ 0.]\n",
      " [ 1.]\n",
      " [ 0.]]\n"
     ]
    }
   ],
   "source": [
    "import numpy as np\n",
    "\n",
    "roll = 0\n",
    "pitch = 0\n",
    "yaw = np.pi/2\n",
    "\n",
    "Rx = np.matrix([\n",
    "        [1, 0, 0],\n",
    "        [0, np.cos(roll), -np.sin(roll)],\n",
    "        [0, np.sin(roll), np.cos(roll)],\n",
    "    ])\n",
    "\n",
    "Ry = np.matrix([\n",
    "        [np.cos(pitch), 0, np.sin(pitch)],\n",
    "        [0, 1, 0],\n",
    "        [-np.sin(pitch), 0, np.cos(pitch)],\n",
    "    ])\n",
    "Rz = np.matrix([\n",
    "        [np.cos(yaw), -np.sin(yaw), 0],\n",
    "        [np.sin(yaw), np.cos(yaw), 0],\n",
    "        [0, 0, 1],\n",
    "    ])\n",
    "\n",
    "R = Rz*Ry*Rx\n",
    "\n",
    "# transform input vector\n",
    "vi = np.array([[1],[0],[0]])\n",
    "vf = R*vi\n",
    "\n",
    "# round for precision\n",
    "vf = np.round(vf, 3)\n",
    "\n",
    "print('Body frame vector:')\n",
    "print(vi)\n",
    "print('World frame vector:')\n",
    "print(vf)\n"
   ]
  },
  {
   "cell_type": "markdown",
   "metadata": {},
   "source": [
    "This is very useful. Say for example that you have a whole bunch of 3D graphics that are defined with respect to the body's frame of reference--a motor at (1,1,0), another one at (1,-1,0), etc.--you can now easily plot all of these objects by transforming them to the world frame before visualizing.\n",
    "\n",
    "Now we'd also like a way of translating vectors in the world frame to the body's frame of reference. This will be very useful when doing inertial state estimation, because if you're estimating a rigid body's acceleration with respect to the world frame, for example, you want some way of relating that to the acceleration that the object should be measuring with respect to its body frame, allowing you to directly compare the accelerometer readings with the current acceleration estimate. \n",
    "\n",
    "So how do we do this? Well it's quite easy and you may have already guessed the answer--we need only invert the rotation matrix $R$. Additionally, because rotations are typically defined with respect to a set of orthogonal axes, the matrix $R$ is orthogonal, meaning $R^TR = I$. In other words, $R^{-1} = R^T$, so we need only transpose the rotation matrix to get the inverse."
   ]
  },
  {
   "cell_type": "code",
   "execution_count": 47,
   "metadata": {
    "collapsed": false
   },
   "outputs": [
    {
     "name": "stdout",
     "output_type": "stream",
     "text": [
      "World frame vector:\n",
      "[[0]\n",
      " [1]\n",
      " [0]]\n",
      "Body frame vector:\n",
      "[[ 1.]\n",
      " [ 0.]\n",
      " [ 0.]]\n"
     ]
    }
   ],
   "source": [
    "# The original body to world rotation\n",
    "Rb2w = R\n",
    "# The new world to body rotation\n",
    "Rw2b = R.T\n",
    "\n",
    "# transform input vector\n",
    "vi = np.array([[0],[1],[0]])\n",
    "vf = Rw2b*vi\n",
    "\n",
    "# round for precision\n",
    "vf = np.round(vf, 3)\n",
    "\n",
    "print('World frame vector:')\n",
    "print(vi)\n",
    "print('Body frame vector:')\n",
    "print(vf)\n"
   ]
  },
  {
   "cell_type": "markdown",
   "metadata": {},
   "source": [
    "We'll be using Euler angles, because they allow for a more intuitive understanding of the angles and rotations involved, despite several fatal flaws that they have. But, for the sake of completeness, we'll discuss that fatal flaw here and the standard way of overcoming it.\n",
    "\n",
    "## Gimbal Lock\n",
    "Imagine what would happen if, when performing sequential Euler rotations, we at some point line up our intermediate axes. For example, if we pitch up 90 degrees so that our subsequent roll axis is now aligned with our initial yaw axis. In this scenario, our roll and yaw axes are perfectly aligned, so they both control the same degree of freedom. In other words, we've *lost* a degree of freedom!\n",
    "\n",
    "This is also sometimes called a singularity problem, because our rotation matrix $R$ has become singular--it is no longer full rank. Let's see an example:"
   ]
  },
  {
   "cell_type": "code",
   "execution_count": 54,
   "metadata": {
    "collapsed": false
   },
   "outputs": [
    {
     "name": "stdout",
     "output_type": "stream",
     "text": [
      "Body frame vector:\n",
      "[[1]\n",
      " [0]\n",
      " [0]]\n",
      "World frame vector:\n",
      "(array([[ 0.],\n",
      "       [ 0.],\n",
      "       [ 1.]]), '<-- perfectly vertical')\n"
     ]
    }
   ],
   "source": [
    "yaw   = np.pi/4\n",
    "pitch = -np.pi/2\n",
    "roll  = np.pi/6\n",
    "\n",
    "Rx = np.matrix([\n",
    "        [1, 0, 0],\n",
    "        [0, np.cos(roll), -np.sin(roll)],\n",
    "        [0, np.sin(roll), np.cos(roll)],\n",
    "    ])\n",
    "\n",
    "Ry = np.matrix([\n",
    "        [np.cos(pitch), 0, np.sin(pitch)],\n",
    "        [0, 1, 0],\n",
    "        [-np.sin(pitch), 0, np.cos(pitch)],\n",
    "    ])\n",
    "Rz = np.matrix([\n",
    "        [np.cos(yaw), -np.sin(yaw), 0],\n",
    "        [np.sin(yaw), np.cos(yaw), 0],\n",
    "        [0, 0, 1],\n",
    "    ])\n",
    "\n",
    "Rb2w = Rz*Ry*Rx\n",
    "\n",
    "# transform input vector\n",
    "vi = np.array([[1],[0],[0]])\n",
    "vf = Rb2w*vi\n",
    "\n",
    "# round for precision\n",
    "vf = np.round(vf, 3)\n",
    "\n",
    "print('Body frame vector:')\n",
    "print(vi)\n",
    "print('World frame vector:')\n",
    "print(vf, '<-- perfectly vertical')"
   ]
  },
  {
   "cell_type": "markdown",
   "metadata": {},
   "source": [
    "But how did we end up with such a precisely vertical vector at the end? We said roll by 30 degrees at the end, that should look kind of nasty. In fact, no matter what value you select for roll above, the final vector will be perfectly vertical. In other words, roll no longer matters--we've dropped a degree of freedom. This is gimbal lock. \n",
    "\n",
    "## Quaternions\n",
    "Gimbal lock presents both intuitive and mathematical problems when using Euler angles.  The standard way of avoiding these issues is through the use of Quaternions, though in using Quaternions we lose a bit of the intuition behind matrix rotations.\n",
    "\n",
    "When dealing with 2D rotations, you may have learned a strategy that involved complex numbers. Complex numbers, e.g. $a + b\\cdot i$, are useful as a way of expressing two axes with one number--they are, essentially, *compound* numbers. We often plot them with $i$ on the vertical axis, like so:\n",
    "\n",
    "<img src=\"https://upload.wikimedia.org/wikipedia/commons/thumb/a/af/Complex_number_illustration.svg/2000px-Complex_number_illustration.svg.png\" alt=\"north east down\" style=\"width: 200px;\"/>\n",
    "\n",
    "In order to rotate a 2D vector about the origin, we need only multiply that vector by a unit vector of the appropriate angle.  For example, we start with a number $x = 0 + 1i$ and we'd like to rotate by 45 degrees.  In complex numbers, a 45 degree unit vector is roughly $r = 0.707 + 0.707i$. So to rotate, we can just say $x' = rx = -0.707 + 0.707i$, which makes sense. \n",
    "\n",
    "Now, we can do the same thing in the 3D dimensional case, but there's an odd catch--you may think we need 3 dimensional numbers now, but in fact we need 4! If we were to rotate in 4 dimensions, we would need 8, and so forth. So a 3D complex rotation is represented as follows.\n",
    "\n",
    "<center>\n",
    "$\\begin{align}\n",
    "q &= w + ai + bj +ck \\\\\n",
    "i &= j = k = ijk \\\\\n",
    "q(\\theta) &= \\cos(\\theta/2) + \\sin(\\theta/2)(u_xi + u_yj + u_zk)\n",
    "\\end{align}$\n",
    "</center>\n",
    "\n",
    "for a rotation of $\\theta$ about the vector described by $[u_x, u_y, u_z]$. The rotation is then accomplished by the following conjugate product: $x' = qxq^*$. \n",
    "\n",
    "Let's see an example!"
   ]
  },
  {
   "cell_type": "code",
   "execution_count": 61,
   "metadata": {
    "collapsed": false
   },
   "outputs": [
    {
     "name": "stdout",
     "output_type": "stream",
     "text": [
      "[ 0.     0.707  0.707  0.   ]\n"
     ]
    }
   ],
   "source": [
    "# when we expand quaternion multiplication\n",
    "def q_mult(q1, q2):\n",
    "    w1, x1, y1, z1 = q1\n",
    "    w2, x2, y2, z2 = q2\n",
    "    w = w1 * w2 - x1 * x2 - y1 * y2 - z1 * z2\n",
    "    x = w1 * x2 + x1 * w2 + y1 * z2 - z1 * y2\n",
    "    y = w1 * y2 + y1 * w2 + z1 * x2 - x1 * z2\n",
    "    z = w1 * z2 + z1 * w2 + x1 * y2 - y1 * x2\n",
    "    return w, x, y, z\n",
    "\n",
    "# and to conjugate a quaternion\n",
    "def q_conjugate(q):\n",
    "    w, x, y, z = q\n",
    "    return (w, -x, -y, -z)\n",
    "\n",
    "x_init = (1, 0, 0)\n",
    "v_rot = (0, 0, 1)\n",
    "angle = np.pi/4\n",
    "q = (\n",
    "        np.cos(angle/2), \n",
    "        np.sin(angle/2)*v_rot[0], \n",
    "        np.sin(angle/2)*v_rot[1], \n",
    "        np.sin(angle/2)*v_rot[2]\n",
    "    )\n",
    "\n",
    "# x' = qxq^*\n",
    "x_quat = (0, x_init[0], x_init[1], x_init[2])\n",
    "x_tmp = q_mult( x_quat, q_conjugate(q))\n",
    "x_new = q_mult( q, x_tmp)\n",
    "\n",
    "x_fin = (x_new[1], x_new[2], x_new[3])\n",
    "\n",
    "print( np.round(x_new,3) )"
   ]
  },
  {
   "cell_type": "markdown",
   "metadata": {},
   "source": [
    "And that's it for rotations! On to some more interesting things now."
   ]
  }
 ],
 "metadata": {
  "kernelspec": {
   "display_name": "Python 2",
   "language": "python",
   "name": "python2"
  },
  "language_info": {
   "codemirror_mode": {
    "name": "ipython",
    "version": 2
   },
   "file_extension": ".py",
   "mimetype": "text/x-python",
   "name": "python",
   "nbconvert_exporter": "python",
   "pygments_lexer": "ipython2",
   "version": "2.7.11"
  }
 },
 "nbformat": 4,
 "nbformat_minor": 0
}
